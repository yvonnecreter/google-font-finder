version https://git-lfs.github.com/spec/v1
oid sha256:d549c57b5e9eaa48f898d7b7e261318033cc046c53847bb8194b85c6ae3c19d9
size 102624
