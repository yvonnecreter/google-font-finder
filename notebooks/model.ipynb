{
 "cells": [
  {
   "cell_type": "markdown",
   "id": "3a79aed3",
   "metadata": {},
   "source": [
    "# Generate dataset"
   ]
  },
  {
   "cell_type": "code",
   "execution_count": null,
   "id": "f18f3219",
   "metadata": {},
   "outputs": [],
   "source": [
    "from db_helpers import get_db_connection, generate_character_image, preprocess_character\n",
    "from fontTools.ttLib import TTFont\n",
    "from config.settings import DATABASE, DEBUG, DIR\n",
    "import matplotlib.pyplot as plt\n",
    "import torch\n",
    "from pathlib import Path\n",
    "from font_dataset import generate_dataset\n",
    "%load_ext autoreload\n",
    "%autoreload 2\n",
    "\n",
    "device          = (\"mps\" if torch.backends.mps.is_available() else \"cuda\" if torch.cuda.is_available() else \"cpu\")  \n",
    "data_directory  = DIR['data']\n",
    "font_directory  = DIR['fonts']\n",
    "\n",
    "# generate_dataset(data_directory=data_directory, font_directory=font_directory)"
   ]
  },
  {
   "cell_type": "markdown",
   "id": "4ed54070",
   "metadata": {},
   "source": [
    "# Train model"
   ]
  },
  {
   "cell_type": "code",
   "execution_count": null,
   "id": "809db763",
   "metadata": {},
   "outputs": [],
   "source": [
    "from config.settings import DATABASE, DEBUG, DIR\n",
    "from transformers import AutoImageProcessor, Trainer, TrainingArguments, Trainloader\n",
    "from font_dataset import FontDateset\n",
    "from font_model import FontDetectionModel\n",
    "\n",
    "# split\n",
    "dataset         = torch.load(data_directory, map_location=\"cpu\")\n",
    "len_dataset     = len(dataset)\n",
    "bound           = (len_dataset*.6, len_dataset*8)\n",
    "ran             = torch.randperm(len_dataset)\n",
    "idx             = ran[:bound[0]], ran[bound[0],bound[1]], ran[bound[1]:]\n",
    "\n",
    "trainloader     = Trainloader(dataset[ran[0]])\n",
    "valloader       = Trainloader(dataset[ran[1]])\n",
    "testloader      = Trainloader(dataset[ran[2]])\n",
    "del len_dataset, bound, ran, idx, dataset\n",
    "\n",
    "# model\n",
    "model_path      = f\"{DIR['models']}/font-classifier\"\n",
    "model           = FontDetectionModel(\n",
    "\n",
    ")\n",
    "\n",
    "# TODO contrastive loss NT-Xent\n",
    "# TODO store embeddings in database"
   ]
  }
 ],
 "metadata": {
  "kernelspec": {
   "display_name": "Fontsfinder",
   "language": "python",
   "name": "python3"
  },
  "language_info": {
   "codemirror_mode": {
    "name": "ipython",
    "version": 3
   },
   "file_extension": ".py",
   "mimetype": "text/x-python",
   "name": "python",
   "nbconvert_exporter": "python",
   "pygments_lexer": "ipython3",
   "version": "3.12.9"
  }
 },
 "nbformat": 4,
 "nbformat_minor": 5
}
